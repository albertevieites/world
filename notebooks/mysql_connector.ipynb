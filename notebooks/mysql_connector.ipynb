{
 "cells": [
  {
   "cell_type": "code",
   "execution_count": 1,
   "id": "initial_id",
   "metadata": {
    "collapsed": true,
    "ExecuteTime": {
     "end_time": "2024-01-21T13:32:09.873711Z",
     "start_time": "2024-01-21T13:32:07.966702Z"
    }
   },
   "outputs": [],
   "source": [
    "import pandas as pd\n",
    "import mysql.connector"
   ]
  },
  {
   "cell_type": "code",
   "outputs": [],
   "source": [
    "connection = mysql.connector.connect(\n",
    "    host=\"localhost\",\n",
    "    user=\"root\",\n",
    "    password=\"20180821\",\n",
    "    database=\"world\",\n",
    "    ssl_disabled=True\n",
    ")\n",
    "\n",
    "cursor = connection.cursor()\n",
    "\n",
    "query = \"SELECT * FROM city\"\n",
    "\n",
    "cursor.execute(query)\n",
    "\n",
    "results = []\n",
    "for i, data in enumerate(cursor):\n",
    "    results.append(data)\n",
    "    \n",
    "cursor.close()\n",
    "connection.close()"
   ],
   "metadata": {
    "collapsed": false,
    "ExecuteTime": {
     "end_time": "2024-01-21T21:18:16.585023Z",
     "start_time": "2024-01-21T21:18:16.445402Z"
    }
   },
   "id": "c0a73e364ba9e600",
   "execution_count": 10
  },
  {
   "cell_type": "code",
   "outputs": [
    {
     "data": {
      "text/plain": "   ID            Name CountryCode       District  Population\n0   1           Kabul         AFG          Kabol     1780000\n1   2        Qandahar         AFG       Qandahar      237500\n2   3           Herat         AFG          Herat      186800\n3   4  Mazar-e-Sharif         AFG          Balkh      127800\n4   5       Amsterdam         NLD  Noord-Holland      731200",
      "text/html": "<div>\n<style scoped>\n    .dataframe tbody tr th:only-of-type {\n        vertical-align: middle;\n    }\n\n    .dataframe tbody tr th {\n        vertical-align: top;\n    }\n\n    .dataframe thead th {\n        text-align: right;\n    }\n</style>\n<table border=\"1\" class=\"dataframe\">\n  <thead>\n    <tr style=\"text-align: right;\">\n      <th></th>\n      <th>ID</th>\n      <th>Name</th>\n      <th>CountryCode</th>\n      <th>District</th>\n      <th>Population</th>\n    </tr>\n  </thead>\n  <tbody>\n    <tr>\n      <th>0</th>\n      <td>1</td>\n      <td>Kabul</td>\n      <td>AFG</td>\n      <td>Kabol</td>\n      <td>1780000</td>\n    </tr>\n    <tr>\n      <th>1</th>\n      <td>2</td>\n      <td>Qandahar</td>\n      <td>AFG</td>\n      <td>Qandahar</td>\n      <td>237500</td>\n    </tr>\n    <tr>\n      <th>2</th>\n      <td>3</td>\n      <td>Herat</td>\n      <td>AFG</td>\n      <td>Herat</td>\n      <td>186800</td>\n    </tr>\n    <tr>\n      <th>3</th>\n      <td>4</td>\n      <td>Mazar-e-Sharif</td>\n      <td>AFG</td>\n      <td>Balkh</td>\n      <td>127800</td>\n    </tr>\n    <tr>\n      <th>4</th>\n      <td>5</td>\n      <td>Amsterdam</td>\n      <td>NLD</td>\n      <td>Noord-Holland</td>\n      <td>731200</td>\n    </tr>\n  </tbody>\n</table>\n</div>"
     },
     "execution_count": 14,
     "metadata": {},
     "output_type": "execute_result"
    }
   ],
   "source": [
    "df = pd.DataFrame(results)\n",
    "df.columns = ['ID', 'Name', 'CountryCode', 'District', 'Population']\n",
    "df.head()"
   ],
   "metadata": {
    "collapsed": false,
    "ExecuteTime": {
     "end_time": "2024-01-21T21:30:25.616479Z",
     "start_time": "2024-01-21T21:30:25.570171Z"
    }
   },
   "id": "b960902e7d7ab74",
   "execution_count": 14
  },
  {
   "cell_type": "code",
   "outputs": [],
   "source": [],
   "metadata": {
    "collapsed": false
   },
   "id": "f81014fffb73ce24"
  }
 ],
 "metadata": {
  "kernelspec": {
   "display_name": "Python 3",
   "language": "python",
   "name": "python3"
  },
  "language_info": {
   "codemirror_mode": {
    "name": "ipython",
    "version": 2
   },
   "file_extension": ".py",
   "mimetype": "text/x-python",
   "name": "python",
   "nbconvert_exporter": "python",
   "pygments_lexer": "ipython2",
   "version": "2.7.6"
  }
 },
 "nbformat": 4,
 "nbformat_minor": 5
}
